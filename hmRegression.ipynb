{
 "cells": [
  {
   "cell_type": "code",
   "execution_count": 1,
   "metadata": {},
   "outputs": [],
   "source": [
    "import cv2 as cv\n",
    "import pandas as pd\n",
    "import matplotlib.pyplot as plt\n",
    "import math\n",
    "import numpy as np\n",
    "import random\n",
    "import os\n",
    "\n",
    "import tensorflow.keras.backend as K\n",
    "import tensorflow.keras.utils\n",
    "\n",
    "from tensorflow.keras.callbacks import CSVLogger, EarlyStopping, ModelCheckpoint, ReduceLROnPlateau\n",
    "from tensorflow.keras.layers import Activation, Add, Conv2D, Conv2DTranspose, concatenate, Cropping2D, MaxPooling2D, Reshape, UpSampling2D, Input\n",
    "from tensorflow.keras.models import Model\n",
    "from tensorflow.keras.optimizers import SGD, RMSprop, Adam\n",
    "from tensorflow.keras.regularizers import l2"
   ]
  },
  {
   "cell_type": "code",
   "execution_count": 2,
   "metadata": {},
   "outputs": [],
   "source": [
    "Nkeypoints = 2\n",
    "W = 64\n",
    "H = 512"
   ]
  },
  {
   "cell_type": "code",
   "execution_count": 3,
   "metadata": {},
   "outputs": [
    {
     "name": "stdout",
     "output_type": "stream",
     "text": [
      "[[ 0  1  2 ... 61 62 63]\n",
      " [ 0  1  2 ... 61 62 63]\n",
      " [ 0  1  2 ... 61 62 63]\n",
      " ...\n",
      " [ 0  1  2 ... 61 62 63]\n",
      " [ 0  1  2 ... 61 62 63]\n",
      " [ 0  1  2 ... 61 62 63]]\n"
     ]
    }
   ],
   "source": [
    "index_map = [j for i in range(512) for j in range(64)]\n",
    "index_map = np.reshape(index_map, newshape=(512,64))\n",
    "print(index_map)"
   ]
  },
  {
   "cell_type": "markdown",
   "metadata": {},
   "source": [
    "## Mask Generator Class"
   ]
  },
  {
   "cell_type": "code",
   "execution_count": 4,
   "metadata": {},
   "outputs": [],
   "source": [
    "class MaskGenerator(tensorflow.keras.utils.Sequence):\n",
    "\n",
    "    def __init__(self, directory, idxs, img_dict, labels_dict,\n",
    "                 target_size=(512,64), batch_size=1, augment=False,\n",
    "                 transform_dict = None, shuffle=True):\n",
    "\n",
    "        self.directory = directory\n",
    "        self.idxs = idxs\n",
    "        self.img_dict = img_dict\n",
    "        self.labels_dict = labels_dict\n",
    "        self.transform_dict = transform_dict\n",
    "        self.target_size = target_size\n",
    "        self.batch_size = batch_size\n",
    "        self.augment = augment\n",
    "        self.shuffle = shuffle\n",
    "        self.on_epoch_end()\n",
    "\n",
    "    # shuffle indices at the end of each epoch\n",
    "    def on_epoch_end(self):\n",
    "        if self.shuffle is True:\n",
    "            np.random.shuffle(self.idxs)\n",
    "\n",
    "    # return number of batches per epoch\n",
    "    def __len__(self):\n",
    "\n",
    "        if self.augment is True:\n",
    "            multiplier = 5\n",
    "        else:\n",
    "            multiplier = 1\n",
    "\n",
    "        return int(np.floor(len(self.idxs) * multiplier / self.batch_size))\n",
    "\n",
    "    # check if transformed point is located within image boundaries\n",
    "    def _checkBoundaries(self, p):\n",
    "\n",
    "        # x dimension\n",
    "        if p[0] < 0:\n",
    "            px = 0\n",
    "        elif p[0] > self.target_size[0]:\n",
    "            px = self.target_size[0]\n",
    "        else:\n",
    "            px = p[0]\n",
    "\n",
    "        # y dimension\n",
    "        if p[1] < 0:\n",
    "            py = 0\n",
    "        elif p[1] > self.target_size[1]:\n",
    "            py = self.target_size[1]\n",
    "        else:\n",
    "            py = p[1]\n",
    "\n",
    "        return (int(px), int(py))\n",
    "\n",
    "    # apply shifts, rotations, scaling and flips to original image and keypoints\n",
    "    def _transform_image(self, img, keypoints):\n",
    "\n",
    "        aug_keypoints = []\n",
    "\n",
    "        c = (img.shape[0] // 2, img.shape[1] // 2)\n",
    "\n",
    "        if self.transform_dict['Flip']:\n",
    "            flip = random.choice([True, False])\n",
    "            if flip:\n",
    "                img = cv.flip(img, flipCode=1)\n",
    "\n",
    "        if self.transform_dict['Rotate']:\n",
    "\n",
    "            if self.transform_dict['Scale']:\n",
    "                s = random.uniform(0.7, 1.0)\n",
    "            else:\n",
    "                s = 1.0\n",
    "\n",
    "            r = random.randint(-10, 10)\n",
    "            M_rot = cv.getRotationMatrix2D(center=(img.shape[0] // 2, img.shape[1] // 2), angle=r, scale=s)\n",
    "            img = cv.warpAffine(img, M_rot, (img.shape[0], img.shape[1]), borderMode=cv.BORDER_CONSTANT, borderValue=1)\n",
    "\n",
    "        if self.transform_dict['Shift']:\n",
    "            tx = random.randint(-20, 20)\n",
    "            ty = random.randint(-20, 20)\n",
    "            M_shift = np.array([[1, 0, tx], [0, 1, ty]], dtype=np.float32)\n",
    "            img = cv.warpAffine(img, M_shift, (img.shape[0], img.shape[1]),\n",
    "                                borderMode=cv.BORDER_CONSTANT, borderValue=1)\n",
    "\n",
    "        # transform keypoints\n",
    "        c = (img.shape[0] // 2, img.shape[1] // 2)\n",
    "\n",
    "        for i in range(0, len(keypoints) - 1, 2):\n",
    "\n",
    "            px = keypoints[i]\n",
    "            py = keypoints[i+1]\n",
    "            p = np.array([px, py, 1], dtype=int)\n",
    "\n",
    "            # apply flip\n",
    "            if self.transform_dict['Flip'] and flip:\n",
    "                p[0] = c[0] - (p[0] - c[0])\n",
    "\n",
    "            # apply rotation\n",
    "            if self.transform_dict['Rotate']:\n",
    "                p = np.dot(M_rot, p)\n",
    "\n",
    "            # apply horizontal / vertical shifts\n",
    "            if self.transform_dict['Shift']:\n",
    "                p[0] += tx\n",
    "                p[1] += ty\n",
    "\n",
    "            p = self._checkBoundaries(p)\n",
    "\n",
    "            aug_keypoints.append(p[0])\n",
    "            aug_keypoints.append(p[1])\n",
    "\n",
    "        return img, aug_keypoints\n",
    "\n",
    "    # load image from disk\n",
    "    def _load_image(self, fn):\n",
    "\n",
    "        img = cv.imread(filename=os.path.join(self.directory, fn))\n",
    "        # print(os.path.join(self.directory, fn), img)\n",
    "        # print(fn)\n",
    "        # img = cv.cvtColor(img, cv.COLOR_GRAY2BGR)\n",
    "        # img = cv.cvtColor(img, cv.COLOR_BGR2RGB)\n",
    "        img = cv.cvtColor(img, cv.COLOR_BGR2GRAY)\n",
    "        img = np.float32(img) / 255\n",
    "\n",
    "        return img\n",
    "\n",
    "    # apply gaussian kernel to image\n",
    "    def _gaussian(self, xL, yL, sigma, H, W):\n",
    "\n",
    "        channel = [math.exp(-((c - xL) ** 2 + (r - yL) ** 2) / (2 * sigma ** 2)) for r in range(H) for c in range(W)]\n",
    "        channel = np.array(channel, dtype=np.float32)\n",
    "        channel = np.reshape(channel, newshape=(H, W))\n",
    "\n",
    "        return channel\n",
    "\n",
    "    # convert original image to heatmap\n",
    "    def _convertToHM(self, img, keypoints, sigma=5):\n",
    "\n",
    "        H = img.shape[0]\n",
    "        W = img.shape[1]\n",
    "        nKeypoints = len(keypoints)\n",
    "\n",
    "        img_hm = np.zeros(shape=(H, W, nKeypoints // 2), dtype=np.float32)\n",
    "\n",
    "        for i in range(0, nKeypoints // 2):\n",
    "            x = keypoints[i * 2]\n",
    "            y = keypoints[1 + 2 * i]\n",
    "\n",
    "            channel_hm = self._gaussian(x, y, sigma, H, W)\n",
    "\n",
    "            img_hm[:, :, i] = channel_hm\n",
    "        \n",
    "        img_hm = np.reshape(img_hm, newshape=(img_hm.shape[0]*img_hm.shape[1]*nKeypoints // 2, 1))\n",
    "\n",
    "        return img_hm\n",
    "\n",
    "    # generate batches of scaled images and bounding boxes\n",
    "    def _data_generation(self, idxs):\n",
    "\n",
    "        x = []\n",
    "        y = []\n",
    "\n",
    "        for idx in idxs:\n",
    "            img = self._load_image(self.img_dict[idx])\n",
    "            keypoints = self.labels_dict[idx]\n",
    "\n",
    "            if self.augment is True and self.transform_dict:\n",
    "                img, keypoints = self._transform_image(img, keypoints)\n",
    "\n",
    "            img = np.reshape(img, (512, 64, 1))\n",
    "            img_hm = self._convertToHM(img, keypoints)\n",
    "\n",
    "            x.append(img)\n",
    "            y.append(img_hm)\n",
    "\n",
    "        return np.array(x, dtype=np.float32), np.array(y, dtype=np.float32)\n",
    "\n",
    "    # return indices for train batches\n",
    "    def _get_train_idxs(self, idx):\n",
    "\n",
    "        # number of batches in original train set\n",
    "        N = int(np.floor(len(self.idxs) / self.batch_size))\n",
    "\n",
    "        # idx exceeds original image indices\n",
    "        if idx > N:\n",
    "\n",
    "            # reset start idx\n",
    "            if idx % N == 0:\n",
    "                reset_idx = 0 #((idx - 1) % N) + 1\n",
    "            else:\n",
    "                reset_idx = idx % N - 1\n",
    "\n",
    "            start = reset_idx * self.batch_size\n",
    "\n",
    "            # end idx\n",
    "            if (reset_idx + 1) * self.batch_size > len(self.idxs):\n",
    "                end = len(self.idxs)\n",
    "            else:\n",
    "                end = (reset_idx + 1) * self.batch_size\n",
    "\n",
    "        # idx is within in original train set\n",
    "        else:\n",
    "            start = idx * self.batch_size\n",
    "            end = (idx + 1) * self.batch_size\n",
    "\n",
    "        return start, end\n",
    "\n",
    "    # return indices for val batches\n",
    "    def _get_val_idxs(self, idx):\n",
    "\n",
    "        if (idx + 1) * self.batch_size > len(self.idxs):\n",
    "            end = len(self.idxs)\n",
    "        else:\n",
    "            end = (idx + 1) * self.batch_size\n",
    "\n",
    "        return idx * self.batch_size, end\n",
    "\n",
    "    # return batch of image data and labels\n",
    "    def __getitem__(self, idx):\n",
    "\n",
    "        if self.augment is True:\n",
    "            start_batch_idx, end_batch_idx = self._get_train_idxs(idx)\n",
    "        else:\n",
    "            start_batch_idx, end_batch_idx = self._get_val_idxs(idx)\n",
    "\n",
    "        idxs = self.idxs[start_batch_idx:end_batch_idx]\n",
    "        batch_x, batch_y = self._data_generation(idxs)\n",
    "\n",
    "        return batch_x, batch_y"
   ]
  },
  {
   "cell_type": "markdown",
   "metadata": {},
   "source": [
    "## Visualize Masks"
   ]
  },
  {
   "cell_type": "code",
   "execution_count": 5,
   "metadata": {},
   "outputs": [],
   "source": [
    "def show_masks(batch_imgs, batch_gt_masks, nrows, ncols, include_preds= False, predictions=None):\n",
    "\n",
    "    if not include_preds:\n",
    "        nrows -= 1\n",
    "\n",
    "    fig, axes = plt.subplots(nrows=nrows, ncols=ncols)\n",
    "\n",
    "    r = -1\n",
    "\n",
    "    for c in range(ncols):\n",
    "\n",
    "        # original image\n",
    "        img = batch_imgs[c]\n",
    "        img = np.reshape(img, newshape=(512,64))\n",
    "        img = np.stack([img,img,img], axis=-1)\n",
    "\n",
    "        # ground-truth mask\n",
    "        gt_mask = batch_gt_masks[c]\n",
    "        gt_mask = np.reshape(gt_mask, newshape=(512,64,2))\n",
    "        gt_mask = np.sum(gt_mask, axis=-1)\n",
    "\n",
    "        axes[0, c].imshow(img)\n",
    "        axes[1, c].imshow(gt_mask)\n",
    "\n",
    "        # prediction mask\n",
    "        if include_preds: \n",
    "            pred_mask = predictions[c]\n",
    "            pred_mask = np.reshape(pred_mask, newshape=(512,64,2))\n",
    "            pred_mask = np.sum(pred_mask, axis=-1)\n",
    "            axes[2, c].imshow(pred_mask)\n",
    "    \n",
    "    plt.show()"
   ]
  },
  {
   "cell_type": "markdown",
   "metadata": {},
   "source": [
    "## Load Training Data"
   ]
  },
  {
   "cell_type": "code",
   "execution_count": 6,
   "metadata": {},
   "outputs": [],
   "source": [
    "data_dir = \"./data\"\n",
    "train_dir = \"train\"\n",
    "train_csv = \"training.csv\"\n",
    "test_dir = \"test\"\n",
    "test_csv = \"test.csv\"\n",
    "\n",
    "df_train = pd.read_csv(os.path.join(train_csv))\n",
    "df_test = pd.read_csv(os.path.join(test_csv))\n",
    "\n",
    "n_train = df_train['Image'].size\n",
    "n_test = df_test['Image'].size\n",
    "\n",
    "df_kp = df_train.iloc[:,1:5]\n",
    "\n",
    "idxs = []\n",
    "\n",
    "img_dict = {}\n",
    "kp_dict = {}\n",
    "\n",
    "for i in range(n_train):\n",
    "\n",
    "    if True in df_train.iloc[i, 1:5].isna().values:\n",
    "        continue\n",
    "    else:\n",
    "        idxs.append(i)\n",
    "\n",
    "        img_dict[i] = df_train['Image'][i]\n",
    "\n",
    "        # keypoints\n",
    "        kp = df_kp.iloc[i].values.tolist()\n",
    "        kp_dict[i] = kp"
   ]
  },
  {
   "cell_type": "markdown",
   "metadata": {},
   "source": [
    "## Split Data Into Train / Val Sets"
   ]
  },
  {
   "cell_type": "code",
   "execution_count": 7,
   "metadata": {},
   "outputs": [
    {
     "name": "stdout",
     "output_type": "stream",
     "text": [
      "\n",
      "# of Training Images: 264\n",
      "# of Val Images: 30\n",
      "\n",
      "# of training batches= 264\n",
      "# of validation batches= 3\n",
      "(1, 512, 64, 1)\n",
      "(1, 65536, 1)\n",
      "(8, 512, 64, 1)\n",
      "(8, 65536, 1)\n"
     ]
    }
   ],
   "source": [
    "random.shuffle(idxs)\n",
    "\n",
    "# subset = int(0.1*len(idxs))\n",
    "\n",
    "cutoff_idx = int(0.9*len(idxs))\n",
    "train_idxs = idxs[0:cutoff_idx]\n",
    "val_idxs = idxs[cutoff_idx:len(idxs)]\n",
    "\n",
    "print(\"\\n# of Training Images: {}\".format(len(train_idxs)))\n",
    "print(\"# of Val Images: {}\".format(len(val_idxs)))\n",
    "\n",
    "transform_dict = {\"Flip\": False, \"Shift\": False, \"Scale\": False, \"Rotate\": False}\n",
    "\n",
    "train_gen = MaskGenerator(os.path.join(data_dir, train_dir),\n",
    "                              train_idxs,\n",
    "                              img_dict,\n",
    "                              kp_dict,\n",
    "                              transform_dict=transform_dict,\n",
    "                              augment=False, \n",
    "                              batch_size=1)\n",
    "\n",
    "val_gen = MaskGenerator(os.path.join(data_dir, train_dir),\n",
    "                            val_idxs,\n",
    "                            img_dict,\n",
    "                            kp_dict,\n",
    "                            augment=False,\n",
    "                            batch_size=8)\n",
    "\n",
    "print(\"\\n# of training batches= %d\" % len(train_gen))\n",
    "print(\"# of validation batches= %d\" % len(val_gen))\n",
    "train_imgs, train_masks = train_gen[0]\n",
    "print(train_imgs.shape)\n",
    "print(train_masks.shape)\n",
    "# show_masks(train_imgs[0:4], train_masks[0:4], nrows=3, ncols=4)\n",
    "\n",
    "val_imgs, val_masks= val_gen[0]\n",
    "print(val_imgs.shape)\n",
    "print(val_masks.shape)\n",
    "# show_masks(val_imgs[0:4], val_masks[0:4], nrows=3, ncols=4)"
   ]
  },
  {
   "cell_type": "markdown",
   "metadata": {},
   "source": [
    "## Architecture"
   ]
  },
  {
   "cell_type": "markdown",
   "metadata": {},
   "source": [
    "### UNet"
   ]
  },
  {
   "cell_type": "code",
   "execution_count": 8,
   "metadata": {},
   "outputs": [
    {
     "name": "stdout",
     "output_type": "stream",
     "text": [
      "Model: \"Output\"\n",
      "__________________________________________________________________________________________________\n",
      " Layer (type)                   Output Shape         Param #     Connected to                     \n",
      "==================================================================================================\n",
      " Input (InputLayer)             [(None, 512, 64, 1)  0           []                               \n",
      "                                ]                                                                 \n",
      "                                                                                                  \n",
      " Block1_Conv1 (Conv2D)          (None, 512, 64, 4)   40          ['Input[0][0]']                  \n",
      "                                                                                                  \n",
      " Block1_Conv2 (Conv2D)          (None, 512, 64, 4)   148         ['Block1_Conv1[0][0]']           \n",
      "                                                                                                  \n",
      " Block1_Pool1 (MaxPooling2D)    (None, 256, 32, 4)   0           ['Block1_Conv2[0][0]']           \n",
      "                                                                                                  \n",
      " Block2_Conv1 (Conv2D)          (None, 256, 32, 8)   296         ['Block1_Pool1[0][0]']           \n",
      "                                                                                                  \n",
      " Block2_Conv2 (Conv2D)          (None, 256, 32, 8)   584         ['Block2_Conv1[0][0]']           \n",
      "                                                                                                  \n",
      " Block2_Pool1 (MaxPooling2D)    (None, 128, 16, 8)   0           ['Block2_Conv2[0][0]']           \n",
      "                                                                                                  \n",
      " Block3_Conv1 (Conv2D)          (None, 128, 16, 16)  1168        ['Block2_Pool1[0][0]']           \n",
      "                                                                                                  \n",
      " Block3_Conv2 (Conv2D)          (None, 128, 16, 16)  2320        ['Block3_Conv1[0][0]']           \n",
      "                                                                                                  \n",
      " Block3_Pool1 (MaxPooling2D)    (None, 64, 8, 16)    0           ['Block3_Conv2[0][0]']           \n",
      "                                                                                                  \n",
      " Block4_Conv1 (Conv2D)          (None, 64, 8, 32)    4640        ['Block3_Pool1[0][0]']           \n",
      "                                                                                                  \n",
      " Block4_Conv2 (Conv2D)          (None, 64, 8, 32)    9248        ['Block4_Conv1[0][0]']           \n",
      "                                                                                                  \n",
      " Block4_Pool1 (MaxPooling2D)    (None, 32, 4, 32)    0           ['Block4_Conv2[0][0]']           \n",
      "                                                                                                  \n",
      " Block5_Conv1 (Conv2D)          (None, 32, 4, 64)    18496       ['Block4_Pool1[0][0]']           \n",
      "                                                                                                  \n",
      " Block5_Conv2 (Conv2D)          (None, 32, 4, 64)    36928       ['Block5_Conv1[0][0]']           \n",
      "                                                                                                  \n",
      " Block6_ConvT1 (Conv2DTranspose  (None, 64, 8, 32)   8224        ['Block5_Conv2[0][0]']           \n",
      " )                                                                                                \n",
      "                                                                                                  \n",
      " Block6_Concat1 (Concatenate)   (None, 64, 8, 64)    0           ['Block6_ConvT1[0][0]',          \n",
      "                                                                  'Block4_Conv2[0][0]']           \n",
      "                                                                                                  \n",
      " Block6_Conv1 (Conv2D)          (None, 64, 8, 32)    18464       ['Block6_Concat1[0][0]']         \n",
      "                                                                                                  \n",
      " Block6_Conv2 (Conv2D)          (None, 64, 8, 32)    9248        ['Block6_Conv1[0][0]']           \n",
      "                                                                                                  \n",
      " Block7_ConvT1 (Conv2DTranspose  (None, 128, 16, 16)  2064       ['Block6_Conv2[0][0]']           \n",
      " )                                                                                                \n",
      "                                                                                                  \n",
      " Block7_Concat1 (Concatenate)   (None, 128, 16, 32)  0           ['Block7_ConvT1[0][0]',          \n",
      "                                                                  'Block3_Conv2[0][0]']           \n",
      "                                                                                                  \n",
      " Block7_Conv1 (Conv2D)          (None, 128, 16, 16)  4624        ['Block7_Concat1[0][0]']         \n",
      "                                                                                                  \n",
      " Block7_Conv2 (Conv2D)          (None, 128, 16, 16)  2320        ['Block7_Conv1[0][0]']           \n",
      "                                                                                                  \n",
      " Block8_ConvT1 (Conv2DTranspose  (None, 256, 32, 8)  520         ['Block7_Conv2[0][0]']           \n",
      " )                                                                                                \n",
      "                                                                                                  \n",
      " Block8_Concat1 (Concatenate)   (None, 256, 32, 16)  0           ['Block8_ConvT1[0][0]',          \n",
      "                                                                  'Block2_Conv2[0][0]']           \n",
      "                                                                                                  \n",
      " Block8_Conv1 (Conv2D)          (None, 256, 32, 8)   1160        ['Block8_Concat1[0][0]']         \n",
      "                                                                                                  \n",
      " Block8_Conv2 (Conv2D)          (None, 256, 32, 8)   584         ['Block8_Conv1[0][0]']           \n",
      "                                                                                                  \n",
      " Block9_ConvT1 (Conv2DTranspose  (None, 512, 64, 4)  132         ['Block8_Conv2[0][0]']           \n",
      " )                                                                                                \n",
      "                                                                                                  \n",
      " Block9_Concat1 (Concatenate)   (None, 512, 64, 8)   0           ['Block9_ConvT1[0][0]',          \n",
      "                                                                  'Block1_Conv2[0][0]']           \n",
      "                                                                                                  \n",
      " Block9_Conv1 (Conv2D)          (None, 512, 64, 4)   292         ['Block9_Concat1[0][0]']         \n",
      "                                                                                                  \n",
      " Block9_Conv2 (Conv2D)          (None, 512, 64, 4)   148         ['Block9_Conv1[0][0]']           \n",
      "                                                                                                  \n",
      " output (Conv2D)                (None, 512, 64, 2)   10          ['Block9_Conv2[0][0]']           \n",
      "                                                                                                  \n",
      " reshape (Reshape)              (None, 65536, 1)     0           ['output[0][0]']                 \n",
      "                                                                                                  \n",
      "==================================================================================================\n",
      "Total params: 121,658\n",
      "Trainable params: 121,658\n",
      "Non-trainable params: 0\n",
      "__________________________________________________________________________________________________\n",
      "None\n"
     ]
    }
   ],
   "source": [
    "def UNET(input_shape):\n",
    "    def downsample_block(x, block_num, n_filters, pooling_on=True):\n",
    "\n",
    "        x = Conv2D(n_filters, kernel_size=(3, 3), strides=1, padding='same', activation='relu',\n",
    "                   name=\"Block\" + str(block_num) + \"_Conv1\")(x)\n",
    "        x = Conv2D(n_filters, kernel_size=(3, 3), strides=1, padding='same', activation='relu',\n",
    "                   name=\"Block\" + str(block_num) + \"_Conv2\")(x)\n",
    "        skip = x\n",
    "\n",
    "        if pooling_on is True:\n",
    "            x = MaxPooling2D(pool_size=(2, 2), strides=2, padding='valid', name=\"Block\" + str(block_num) + \"_Pool1\")(x)\n",
    "\n",
    "        return x, skip\n",
    "\n",
    "    def upsample_block(x, skip, block_num, n_filters):\n",
    "\n",
    "        x = Conv2DTranspose(n_filters, kernel_size=(2, 2), strides=2, padding='valid', activation='relu',\n",
    "                            name=\"Block\" + str(block_num) + \"_ConvT1\")(x)\n",
    "        x = concatenate([x, skip], axis=-1, name=\"Block\" + str(block_num) + \"_Concat1\")\n",
    "        x = Conv2D(n_filters, kernel_size=(3, 3), strides=1, padding='same', activation='relu',\n",
    "                   name=\"Block\" + str(block_num) + \"_Conv1\")(x)\n",
    "        x = Conv2D(n_filters, kernel_size=(3, 3), strides=1, padding='same', activation='relu',\n",
    "                   name=\"Block\" + str(block_num) + \"_Conv2\")(x)\n",
    "\n",
    "        return x\n",
    "\n",
    "    input = Input(input_shape, name=\"Input\")\n",
    "\n",
    "    # downsampling\n",
    "    x, skip1 = downsample_block(input, 1, 4)\n",
    "    x, skip2 = downsample_block(x, 2, 8)\n",
    "    x, skip3 = downsample_block(x, 3, 16)\n",
    "    x, skip4 = downsample_block(x, 4, 32)\n",
    "    x, _ = downsample_block(x, 5, 64, pooling_on=False)\n",
    "\n",
    "    # upsampling\n",
    "    x = upsample_block(x, skip4, 6, 32)\n",
    "    x = upsample_block(x, skip3, 7, 16)\n",
    "    x = upsample_block(x, skip2, 8, 8)\n",
    "    x = upsample_block(x, skip1, 9, 4)\n",
    "\n",
    "    output = Conv2D(2, kernel_size=(1, 1), strides=1, padding='valid', activation='linear', name=\"output\")(x)\n",
    "    output = Reshape(target_shape=(H*W*Nkeypoints,1))(output)\n",
    "\n",
    "    model = Model(inputs=input, outputs=output, name=\"Output\")\n",
    "\n",
    "    return model\n",
    "\n",
    "\n",
    "unet = UNET(input_shape=(512, 64, 1))\n",
    "print(unet.summary())"
   ]
  },
  {
   "cell_type": "markdown",
   "metadata": {},
   "source": [
    "### FCN-8"
   ]
  },
  {
   "cell_type": "code",
   "execution_count": 8,
   "metadata": {},
   "outputs": [
    {
     "name": "stdout",
     "output_type": "stream",
     "text": [
      "__________________________________________________________________________________________________\n",
      "Layer (type)                    Output Shape         Param #     Connected to                     \n",
      "==================================================================================================\n",
      "Input (InputLayer)              (None, 96, 96, 1)    0                                            \n",
      "__________________________________________________________________________________________________\n",
      "block1_conv1 (Conv2D)           (None, 96, 96, 64)   640         Input[0][0]                      \n",
      "__________________________________________________________________________________________________\n",
      "block1_conv2 (Conv2D)           (None, 96, 96, 64)   36928       block1_conv1[0][0]               \n",
      "__________________________________________________________________________________________________\n",
      "block1_pool (MaxPooling2D)      (None, 48, 48, 64)   0           block1_conv2[0][0]               \n",
      "__________________________________________________________________________________________________\n",
      "block2_conv1 (Conv2D)           (None, 48, 48, 128)  73856       block1_pool[0][0]                \n",
      "__________________________________________________________________________________________________\n",
      "block2_conv2 (Conv2D)           (None, 48, 48, 128)  147584      block2_conv1[0][0]               \n",
      "__________________________________________________________________________________________________\n",
      "block2_pool (MaxPooling2D)      (None, 24, 24, 128)  0           block2_conv2[0][0]               \n",
      "__________________________________________________________________________________________________\n",
      "block3_conv1 (Conv2D)           (None, 24, 24, 256)  295168      block2_pool[0][0]                \n",
      "__________________________________________________________________________________________________\n",
      "block3_conv2 (Conv2D)           (None, 24, 24, 256)  590080      block3_conv1[0][0]               \n",
      "__________________________________________________________________________________________________\n",
      "block3_conv3 (Conv2D)           (None, 24, 24, 256)  590080      block3_conv2[0][0]               \n",
      "__________________________________________________________________________________________________\n",
      "block3_pool (MaxPooling2D)      (None, 12, 12, 256)  0           block3_conv3[0][0]               \n",
      "__________________________________________________________________________________________________\n",
      "block4_conv1 (Conv2D)           (None, 12, 12, 512)  1180160     block3_pool[0][0]                \n",
      "__________________________________________________________________________________________________\n",
      "block4_conv2 (Conv2D)           (None, 12, 12, 512)  2359808     block4_conv1[0][0]               \n",
      "__________________________________________________________________________________________________\n",
      "block4_conv3 (Conv2D)           (None, 12, 12, 512)  2359808     block4_conv2[0][0]               \n",
      "__________________________________________________________________________________________________\n",
      "block4_pool (MaxPooling2D)      (None, 6, 6, 512)    0           block4_conv3[0][0]               \n",
      "__________________________________________________________________________________________________\n",
      "block5_conv1 (Conv2D)           (None, 6, 6, 512)    2359808     block4_pool[0][0]                \n",
      "__________________________________________________________________________________________________\n",
      "block5_conv2 (Conv2D)           (None, 6, 6, 512)    2359808     block5_conv1[0][0]               \n",
      "__________________________________________________________________________________________________\n",
      "block5_conv3 (Conv2D)           (None, 6, 6, 512)    2359808     block5_conv2[0][0]               \n",
      "__________________________________________________________________________________________________\n",
      "block5_pool (MaxPooling2D)      (None, 3, 3, 512)    0           block5_conv3[0][0]               \n",
      "__________________________________________________________________________________________________\n",
      "conv6 (Conv2D)                  (None, 3, 3, 4096)   2101248     block5_pool[0][0]                \n",
      "__________________________________________________________________________________________________\n",
      "preds_pool4 (Conv2D)            (None, 6, 6, 15)     7695        block4_pool[0][0]                \n",
      "__________________________________________________________________________________________________\n",
      "conv7 (Conv2D)                  (None, 3, 3, 15)     61455       conv6[0][0]                      \n",
      "__________________________________________________________________________________________________\n",
      "preds_pool3 (Conv2D)            (None, 12, 12, 15)   3855        block3_pool[0][0]                \n",
      "__________________________________________________________________________________________________\n",
      "ConvT_pool4 (Conv2DTranspose)   (None, 12, 12, 15)   915         preds_pool4[0][0]                \n",
      "__________________________________________________________________________________________________\n",
      "ConvT_conv7 (Conv2DTranspose)   (None, 12, 12, 15)   3615        conv7[0][0]                      \n",
      "__________________________________________________________________________________________________\n",
      "add_1 (Add)                     (None, 12, 12, 15)   0           preds_pool3[0][0]                \n",
      "                                                                 ConvT_pool4[0][0]                \n",
      "                                                                 ConvT_conv7[0][0]                \n",
      "__________________________________________________________________________________________________\n",
      "convT_fusion (Conv2DTranspose)  (None, 96, 96, 15)   14415       add_1[0][0]                      \n",
      "__________________________________________________________________________________________________\n",
      "output (Conv2D)                 (None, 96, 96, 15)   240         convT_fusion[0][0]               \n",
      "__________________________________________________________________________________________________\n",
      "reshape_2 (Reshape)             (None, 138240, 1)    0           output[0][0]                     \n",
      "==================================================================================================\n",
      "Total params: 16,906,974\n",
      "Trainable params: 16,906,974\n",
      "Non-trainable params: 0\n",
      "__________________________________________________________________________________________________\n",
      "None\n"
     ]
    }
   ],
   "source": [
    "def conv_block(x, nconvs, n_filters, block_name, wd=None):\n",
    "    for i in range(nconvs):\n",
    "        x = Conv2D(n_filters, kernel_size=(3, 3), strides=1, padding='same', activation='relu',\n",
    "                   kernel_regularizer=wd, name=block_name + \"_conv\" + str(i + 1))(x)\n",
    "\n",
    "    x = MaxPooling2D(pool_size=(2, 2), strides=2, padding='valid', name=block_name + \"_pool\")(x)\n",
    "\n",
    "    return x\n",
    "\n",
    "\n",
    "def FCN8(input_shape):\n",
    "    input = Input(shape=input_shape, name=\"Input\")\n",
    "\n",
    "    # Block 1\n",
    "    x = conv_block(input, nconvs=2, n_filters=64, block_name=\"block1\")\n",
    "\n",
    "    # Block 2\n",
    "    x = conv_block(x, nconvs=2, n_filters=128, block_name=\"block2\")\n",
    "\n",
    "    # Block 3\n",
    "    pool3 = conv_block(x, nconvs=3, n_filters=256, block_name=\"block3\")\n",
    "\n",
    "    # Block 4\n",
    "    pool4 = conv_block(pool3, nconvs=3, n_filters=512, block_name=\"block4\")\n",
    "\n",
    "    # Block 5\n",
    "    x = conv_block(pool4, nconvs=3, n_filters=512, block_name=\"block5\")\n",
    "\n",
    "    # convolution 6\n",
    "    x = Conv2D(4096, kernel_size=(1, 1), strides=1, padding=\"same\", activation=\"relu\", name=\"conv6\")(x)\n",
    "\n",
    "    # convolution 7\n",
    "    x = Conv2D(15, kernel_size=(1, 1), strides=1, padding=\"same\", activation=\"relu\", name=\"conv7\")(x)\n",
    "\n",
    "    # upsampling\n",
    "    preds_pool3 = Conv2D(15, kernel_size=(1, 1), strides=1, padding=\"same\", name=\"preds_pool3\")(pool3)\n",
    "    preds_pool4 = Conv2D(15, kernel_size=(1, 1), strides=1, padding=\"same\", name=\"preds_pool4\")(pool4)\n",
    "    up_pool4 = Conv2DTranspose(filters=15, kernel_size=2, strides=2, activation=\"relu\", name=\"ConvT_pool4\")(preds_pool4)\n",
    "    up_conv7 = Conv2DTranspose(filters=15, kernel_size=4, strides=4, activation=\"relu\", name=\"ConvT_conv7\")(x)\n",
    "\n",
    "    fusion = Add()([preds_pool3, up_pool4, up_conv7])\n",
    "\n",
    "    output = Conv2DTranspose(filters=15, kernel_size=8, strides=8, activation='relu', name=\"convT_fusion\")(fusion)\n",
    "    output = Conv2D(15, kernel_size=(1, 1), strides=1, padding=\"same\", activation=\"linear\", name=\"output\")(output)\n",
    "    output = Reshape(target_shape=(H*W*Nkeypoints, 1))(output)\n",
    "\n",
    "    model = Model(inputs=input, outputs=output, name=\"FCN8\")\n",
    "\n",
    "    return model\n",
    "\n",
    "\n",
    "fcn = FCN8(input_shape=(96, 96, 1))\n",
    "\n",
    "print(fcn.summary())"
   ]
  },
  {
   "cell_type": "markdown",
   "metadata": {},
   "source": [
    "## Training"
   ]
  },
  {
   "cell_type": "code",
   "execution_count": 8,
   "metadata": {},
   "outputs": [],
   "source": [
    "def jaccard(ytrue, ypred, smooth=1e-5):\n",
    "\n",
    "    intersection = K.sum(K.abs(ytrue*ypred), axis=-1)\n",
    "    union = K.sum(K.abs(ytrue)+K.abs(ypred), axis=-1)\n",
    "    jac = (intersection + smooth) / (union-intersection+smooth)\n",
    "\n",
    "    return K.mean(jac)\n"
   ]
  },
  {
   "cell_type": "code",
   "execution_count": 9,
   "metadata": {},
   "outputs": [],
   "source": [
    "def mean_squared_error(y_true, y_pred):\n",
    "    channel_loss = K.sum(K.square(y_pred - y_true), axis=-1)\n",
    "    total_loss = K.mean(channel_loss, axis=-1)\n",
    "    print(total_loss.shape)\n",
    "    return total_loss"
   ]
  },
  {
   "cell_type": "code",
   "execution_count": 10,
   "metadata": {},
   "outputs": [],
   "source": [
    "def create_callbacks(wts_fn, csv_fn, patience=5, enable_save_wts = True):\n",
    "\n",
    "    cbks = []\n",
    "\n",
    "    # early stopping\n",
    "    early_stopper = EarlyStopping(monitor='val_loss', patience=patience)\n",
    "    cbks.append(early_stopper)\n",
    "\n",
    "    # model checkpoint\n",
    "    if enable_save_wts is True:\n",
    "        model_chpt = ModelCheckpoint(filepath=wts_fn,\n",
    "                                     monitor='val_loss',\n",
    "                                     verbose=1,\n",
    "                                     save_weights_only=True,\n",
    "                                     save_best_only=True,\n",
    "                                     period=patience)\n",
    "\n",
    "        cbks.append(model_chpt)\n",
    "    \n",
    "    # csv logger\n",
    "    csv_logger = CSVLogger(csv_fn)\n",
    "    cbks.append(csv_logger)\n",
    "\n",
    "    return cbks\n",
    "\n",
    "\n",
    "\n",
    "def trainModel(model, model_name, loss_type, n_epochs, old_lr, new_lr, load_saved_wts = False):\n",
    "\n",
    "    if load_saved_wts is True:\n",
    "        wts_fn = model_name + \"_lr=\" + str(old_lr) + \".h5\"\n",
    "        model.load_weights(wts_fn)\n",
    "    \n",
    "    wts_fn = model_name + \"_lr=\" + str(new_lr) + \".h5\"\n",
    "    csv_fn = model_name + \"_lr=\" + str(new_lr) + \".csv\"\n",
    "    cbks = create_callbacks(wts_fn, csv_fn)\n",
    "    \n",
    "    optim = RMSprop(learning_rate=new_lr)\n",
    "    \n",
    "    model.compile(loss=\"mean_squared_error\", optimizer=optim, metrics=None)\n",
    "    print(\"compile success\")\n",
    "    model.fit_generator(generator=train_gen,\n",
    "                        validation_data=val_gen,\n",
    "                        epochs=n_epochs,\n",
    "                        callbacks=cbks)\n",
    "\n",
    "    return model"
   ]
  },
  {
   "cell_type": "markdown",
   "metadata": {},
   "source": [
    "### Train Models"
   ]
  },
  {
   "cell_type": "code",
   "execution_count": 11,
   "metadata": {},
   "outputs": [],
   "source": [
    "loss_type = \"mse\""
   ]
  },
  {
   "cell_type": "code",
   "execution_count": null,
   "metadata": {},
   "outputs": [],
   "source": [
    "fcn = trainModel(fcn, \"fcn\", loss_type, n_epochs=20, old_lr=1e-3, new_lr=1e-3, load_saved_wts=True)"
   ]
  },
  {
   "cell_type": "code",
   "execution_count": 12,
   "metadata": {},
   "outputs": [
    {
     "name": "stdout",
     "output_type": "stream",
     "text": [
      "WARNING:tensorflow:`period` argument is deprecated. Please use `save_freq` to specify the frequency in number of batches seen.\n",
      "compile success\n",
      "Epoch 1/20\n"
     ]
    },
    {
     "name": "stderr",
     "output_type": "stream",
     "text": [
      "C:\\Users\\test\\AppData\\Local\\Temp\\ipykernel_9260\\1946539614.py:42: UserWarning: `Model.fit_generator` is deprecated and will be removed in a future version. Please use `Model.fit`, which supports generators.\n",
      "  model.fit_generator(generator=train_gen,\n"
     ]
    },
    {
     "ename": "",
     "evalue": "",
     "output_type": "error",
     "traceback": [
      "\u001b[1;31mCanceled future for execute_request message before replies were done"
     ]
    },
    {
     "ename": "",
     "evalue": "",
     "output_type": "error",
     "traceback": [
      "현재 셀 또는 이전 셀에서 코드를 실행하는 동안 Kernel이 충돌했습니다. 셀의 코드를 검토하여 오류의 가능한 원인을 식별하세요. 자세한 내용을 보려면 <a href='https://aka.ms/vscodeJupyterKernelCrash'> 여기 </a> 를 클릭하세요. 자세한 내용은 Jupyter <a href='command:jupyter.viewOutput'>로그</a>를 참조하세요."
     ]
    }
   ],
   "source": [
    "unet = trainModel(unet, \"unet\", loss_type, n_epochs=20, old_lr=1e-3, new_lr=1e-3, load_saved_wts=False)\n"
   ]
  },
  {
   "cell_type": "markdown",
   "metadata": {},
   "source": [
    "## Evaluation on Validation Set"
   ]
  },
  {
   "cell_type": "code",
   "execution_count": 9,
   "metadata": {},
   "outputs": [],
   "source": [
    "def maskToKeypoints(mask):\n",
    "    # mask = np.reshape(mask, newshape=(96,96))\n",
    "    kp = np.unravel_index(np.argmax(mask, axis=None), dims=(512,64))\n",
    "    return kp[1], kp[0]\n",
    "\n",
    "def findCoordinates(mask):\n",
    "\n",
    "    hm_sum = np.sum(mask)\n",
    "\n",
    "    index_map = [j for i in range(512) for j in range(64)]\n",
    "    \n",
    "    index_map = np.reshape(index_map, newshape=(512,64))\n",
    "    x_score_map = mask * index_map / hm_sum\n",
    "    y_score_map = mask.dot(np.transpose(index_map)) / hm_sum\n",
    "\n",
    "    px = np.sum(np.sum(x_score_map, axis=None))\n",
    "    py = np.sum(np.sum(y_score_map, axis=None))\n",
    "\n",
    "    return px, py\n",
    "\n",
    "\n",
    "def calcKeypoints(model, gen):\n",
    "    kps_gt = []\n",
    "    kps_preds = []\n",
    "    nbatches = len(gen)\n",
    "\n",
    "    for i in range(nbatches+1):\n",
    "        # print(\"\\nBatch {}\".format(i))\n",
    "        imgs, batch_gt = gen[i]\n",
    "        batch_preds = model.predict_on_batch(imgs)\n",
    "        n_imgs = imgs.shape[0]\n",
    "        # print(\"\\t# of Images {}\".format(n_imgs))\n",
    "        for j in range(n_imgs):\n",
    "            mask_gt = batch_gt[j]\n",
    "            print(mask_gt)\n",
    "            mask_gt = np.reshape(mask_gt, newshape=(512, 64, 2))\n",
    "            mask_pred = batch_preds[j]\n",
    "            mask_pred = np.reshape(mask_pred, newshape=(512, 64, 2))\n",
    "            nchannels = mask_gt.shape[-1]\n",
    "            # print(nchannels)\n",
    "            gt_list = []\n",
    "            pred_list = []\n",
    "\n",
    "            for k in range(nchannels):\n",
    "                xgt, ygt = findCoordinates(mask_gt[:, :, k]) # maskToKeypoints(mask_gt[:, :, k])\n",
    "                xpred, ypred = findCoordinates(mask_pred[:, :, k])  # maskToKeypoints(mask_pred[:, :, k])\n",
    "\n",
    "                gt_list.append(xgt)\n",
    "                gt_list.append(ygt)\n",
    "\n",
    "                pred_list.append(xpred)\n",
    "                pred_list.append(ypred)\n",
    "\n",
    "            kps_gt.append(gt_list)\n",
    "            kps_preds.append(pred_list)\n",
    "    \n",
    "\n",
    "    return np.array(kps_gt, dtype=np.float32), np.array(kps_preds, dtype=np.float32)\n",
    "\n",
    "\n",
    "def calcRMSError(kps_gt, kps_preds):\n",
    "\n",
    "    N = kps_gt.shape[0] * (kps_gt.shape[-1] // 2)\n",
    "    error = np.sqrt(np.sum((kps_gt-kps_preds)**2)/N)\n",
    "\n",
    "    return error"
   ]
  },
  {
   "cell_type": "markdown",
   "metadata": {},
   "source": [
    "### Visualize Keypoints"
   ]
  },
  {
   "cell_type": "code",
   "execution_count": 10,
   "metadata": {},
   "outputs": [],
   "source": [
    "def show_keypoints(name, batch_imgs, batch_labels, nrows, ncols, predictions=None):\n",
    "\n",
    "    def draw_keypoints(img, keypoints, col):\n",
    "        # print(\"\\n{}\".format(len(keypoints)))\n",
    "        for i in range(0, len(keypoints)-1, 2):\n",
    "            # print(i)\n",
    "            kpx = int(keypoints[i])\n",
    "            kpy = int(keypoints[i+1])\n",
    "            img = cv.circle(img, center=(kpx,kpy), radius=2, color=col, thickness=2)\n",
    "\n",
    "        return img\n",
    "\n",
    "    fig, axes = plt.subplots(nrows=nrows, ncols=ncols)\n",
    "\n",
    "    r = -1\n",
    "\n",
    "    for i in range(len(batch_imgs)):\n",
    "\n",
    "        img = batch_imgs[i]\n",
    "        img = np.reshape(img, newshape=(512, 64))\n",
    "        img = np.stack([img,img,img], axis=-1)\n",
    "\n",
    "        c = i % ncols\n",
    "\n",
    "        if i % ncols == 0:\n",
    "            r += 1\n",
    "\n",
    "        # draw ground-truth keypoints on image\n",
    "        if batch_labels is not None:\n",
    "            img = draw_keypoints(img, batch_labels[i], col=(0,0,255))\n",
    "\n",
    "        # draw predicted keypoints on image\n",
    "        if predictions is not None:\n",
    "            img = draw_keypoints(img, predictions[i], col=(255,0,0))\n",
    "        cv.imshow(name, img)\n",
    "        # axes[r, c].imshow(img)\n",
    "    # plt.savefig(name)\n",
    "    # plt.show()"
   ]
  },
  {
   "cell_type": "markdown",
   "metadata": {},
   "source": [
    "### Visualize All Masks"
   ]
  },
  {
   "cell_type": "code",
   "execution_count": 11,
   "metadata": {},
   "outputs": [],
   "source": [
    "def showAllMasks(img_mask, name, nrows=3, ncols=5):\n",
    "\n",
    "    fig, axes = plt.subplots(nrows=nrows, ncols=ncols)\n",
    "\n",
    "    r = -1\n",
    "\n",
    "    for i in range(img_mask.shape[-1]):\n",
    "\n",
    "        img = img_mask[:, :, i]\n",
    "        # print(img.shape)\n",
    "        img = np.reshape(img, newshape=(512,64))\n",
    "        img = np.stack([img,img,img], axis=-1)\n",
    "\n",
    "        c = i % ncols\n",
    "\n",
    "        if i % ncols == 0:\n",
    "            r += 1\n",
    "        cv.imshow(name, img)\n",
    "        cv.waitKey(0)\n",
    "        # axes[r, c].imshow(img)\n",
    "    # plt.figure(figsize=(12,12))\n",
    "    # plt.show()"
   ]
  },
  {
   "cell_type": "markdown",
   "metadata": {},
   "source": [
    "### FCN8"
   ]
  },
  {
   "cell_type": "markdown",
   "metadata": {},
   "source": [
    "#### Qualitative Mask Results"
   ]
  },
  {
   "cell_type": "code",
   "execution_count": null,
   "metadata": {},
   "outputs": [],
   "source": [
    "imgs, masks = val_gen[0]\n",
    "fcn.load_weights(\"fcn_lr=0.001.h5\")\n",
    "preds = fcn.predict_on_batch(imgs)\n"
   ]
  },
  {
   "cell_type": "code",
   "execution_count": null,
   "metadata": {},
   "outputs": [],
   "source": [
    "print(masks.shape)\n",
    "print(preds.shape)"
   ]
  },
  {
   "cell_type": "code",
   "execution_count": null,
   "metadata": {},
   "outputs": [],
   "source": [
    "show_masks(imgs[0:3], masks[0:3], nrows=3, ncols=3, include_preds=True, predictions = preds)"
   ]
  },
  {
   "cell_type": "code",
   "execution_count": null,
   "metadata": {},
   "outputs": [],
   "source": [
    "gt_mask = masks[1]\n",
    "gt_mask = np.reshape(gt_mask, newshape=(96,96,15))\n",
    "showAllMasks(gt_mask)"
   ]
  },
  {
   "cell_type": "code",
   "execution_count": null,
   "metadata": {},
   "outputs": [],
   "source": [
    "pred_mask = preds[1]\n",
    "pred_mask = np.reshape(pred_mask, newshape=(96,96,15))\n",
    "showAllMasks(pred_mask)"
   ]
  },
  {
   "cell_type": "markdown",
   "metadata": {},
   "source": [
    "#### Get keypoints from masks"
   ]
  },
  {
   "cell_type": "code",
   "execution_count": null,
   "metadata": {},
   "outputs": [],
   "source": [
    "kps_gt, kps_preds = calcKeypoints(fcn, val_gen)"
   ]
  },
  {
   "cell_type": "code",
   "execution_count": null,
   "metadata": {},
   "outputs": [],
   "source": [
    "print(kps_preds.shape)\n",
    "print(kps_gt.shape)"
   ]
  },
  {
   "cell_type": "markdown",
   "metadata": {},
   "source": [
    "#### Qualitative keypoint results "
   ]
  },
  {
   "cell_type": "code",
   "execution_count": null,
   "metadata": {},
   "outputs": [],
   "source": [
    "show_keypoints(imgs[0:6], kps_gt[0:6], nrows=2, ncols=3, predictions=kps_preds[0:6])"
   ]
  },
  {
   "cell_type": "markdown",
   "metadata": {},
   "source": [
    "#### Calculate RMS Error"
   ]
  },
  {
   "cell_type": "code",
   "execution_count": null,
   "metadata": {},
   "outputs": [],
   "source": [
    "rms_error = calcRMSError(kps_gt, kps_preds)\n",
    "print(\"Validation RMS Error = {}\".format(rms_error))"
   ]
  },
  {
   "cell_type": "markdown",
   "metadata": {},
   "source": [
    "### UNet Model"
   ]
  },
  {
   "cell_type": "markdown",
   "metadata": {},
   "source": [
    "#### Qualitative Mask Results"
   ]
  },
  {
   "cell_type": "code",
   "execution_count": 13,
   "metadata": {},
   "outputs": [],
   "source": [
    "imgs, masks = val_gen[0]\n",
    "unet.load_weights(\"unet_lr=0.001.h5\")\n",
    "preds = unet.predict_on_batch(imgs)"
   ]
  },
  {
   "cell_type": "code",
   "execution_count": null,
   "metadata": {},
   "outputs": [
    {
     "name": "stdout",
     "output_type": "stream",
     "text": [
      "(8, 65536, 1)\n",
      "(8, 65536, 1)\n"
     ]
    }
   ],
   "source": [
    "print(preds.shape)\n",
    "print(masks.shape)"
   ]
  },
  {
   "cell_type": "code",
   "execution_count": null,
   "metadata": {},
   "outputs": [
    {
     "data": {
      "image/png": "[encoded data removed]",
      "text/plain": [
       "<Figure size 432x288 with 9 Axes>"
      ]
     },
     "metadata": {
      "needs_background": "light"
     },
     "output_type": "display_data"
    }
   ],
   "source": [
    "show_masks(imgs[0:3], masks[0:3], nrows=3, ncols=3, include_preds=True, predictions = preds)"
   ]
  },
  {
   "cell_type": "code",
   "execution_count": 12,
   "metadata": {},
   "outputs": [
    {
     "data": {
      "image/png": "[encoded data removed]",
      "text/plain": [
       "<Figure size 432x288 with 15 Axes>"
      ]
     },
     "metadata": {
      "needs_background": "light"
     },
     "output_type": "display_data"
    }
   ],
   "source": [
    "gt_mask = masks[1]\n",
    "gt_mask = np.reshape(gt_mask, newshape=(512,64,2))\n",
    "showAllMasks(gt_mask, 'gt.png')"
   ]
  },
  {
   "cell_type": "code",
   "execution_count": 14,
   "metadata": {},
   "outputs": [],
   "source": [
    "pred_mask = preds[1]\n",
    "pred_mask = np.reshape(pred_mask, newshape=(512,64,2))\n",
    "showAllMasks(pred_mask, 'pr.png')"
   ]
  },
  {
   "cell_type": "markdown",
   "metadata": {},
   "source": [
    "#### Get Keypoints from Results"
   ]
  },
  {
   "cell_type": "code",
   "execution_count": 12,
   "metadata": {},
   "outputs": [],
   "source": [
    "kps_gt, kps_preds = calcKeypoints(unet, val_gen)"
   ]
  },
  {
   "cell_type": "code",
   "execution_count": null,
   "metadata": {},
   "outputs": [
    {
     "name": "stdout",
     "output_type": "stream",
     "text": [
      "(30, 4)\n",
      "(30, 4)\n"
     ]
    },
    {
     "ename": "",
     "evalue": "",
     "output_type": "error",
     "traceback": [
      "현재 셀 또는 이전 셀에서 코드를 실행하는 동안 Kernel이 충돌했습니다. 셀의 코드를 검토하여 오류의 가능한 원인을 식별하세요. 자세한 내용을 보려면 <a href='https://aka.ms/vscodeJupyterKernelCrash'> 여기 </a> 를 클릭하세요. 자세한 내용은 Jupyter <a href='command:jupyter.viewOutput'>로그</a>를 참조하세요."
     ]
    }
   ],
   "source": [
    "print(kps_preds.shape)\n",
    "print(kps_gt.shape)"
   ]
  },
  {
   "cell_type": "markdown",
   "metadata": {},
   "source": [
    "#### Qualitative keypoint results"
   ]
  },
  {
   "cell_type": "code",
   "execution_count": null,
   "metadata": {},
   "outputs": [
    {
     "ename": "NameError",
     "evalue": "name 'show_keypoints' is not defined",
     "output_type": "error",
     "traceback": [
      "\u001b[1;31m---------------------------------------------------------------------------\u001b[0m",
      "\u001b[1;31mNameError\u001b[0m                                 Traceback (most recent call last)",
      "\u001b[1;32mc:\\Users\\test\\facial-keypoints-detection\\hmRegression.ipynb 셀 55\u001b[0m in \u001b[0;36m<cell line: 1>\u001b[1;34m()\u001b[0m\n\u001b[1;32m----> <a href='vscode-notebook-cell:/c%3A/Users/test/facial-keypoints-detection/hmRegression.ipynb#Y105sZmlsZQ%3D%3D?line=0'>1</a>\u001b[0m show_keypoints(\u001b[39m'\u001b[39m\u001b[39mkp.png\u001b[39m\u001b[39m'\u001b[39m, imgs[\u001b[39m0\u001b[39m:\u001b[39m6\u001b[39m], kps_gt[\u001b[39m0\u001b[39m:\u001b[39m6\u001b[39m], nrows\u001b[39m=\u001b[39m\u001b[39m2\u001b[39m, ncols\u001b[39m=\u001b[39m\u001b[39m3\u001b[39m, predictions\u001b[39m=\u001b[39mkps_preds[\u001b[39m0\u001b[39m:\u001b[39m6\u001b[39m])\n",
      "\u001b[1;31mNameError\u001b[0m: name 'show_keypoints' is not defined"
     ]
    }
   ],
   "source": [
    "show_keypoints('kp.png', imgs[0:6], kps_gt[0:6], nrows=2, ncols=3, predictions=kps_preds[0:6])"
   ]
  },
  {
   "cell_type": "code",
   "execution_count": 51,
   "metadata": {},
   "outputs": [
    {
     "name": "stdout",
     "output_type": "stream",
     "text": [
      "[   252.7494  129199.89       252.90744 129292.734  ]\n"
     ]
    }
   ],
   "source": [
    "print(kps_preds[1])"
   ]
  },
  {
   "cell_type": "code",
   "execution_count": 52,
   "metadata": {},
   "outputs": [
    {
     "name": "stdout",
     "output_type": "stream",
     "text": [
      "[   251.08148 128542.73       250.40453 128230.39   ]\n"
     ]
    }
   ],
   "source": [
    "print(kps_gt[1])"
   ]
  },
  {
   "cell_type": "markdown",
   "metadata": {},
   "source": [
    "#### Calculate RMS Error"
   ]
  },
  {
   "cell_type": "code",
   "execution_count": 77,
   "metadata": {},
   "outputs": [
    {
     "name": "stdout",
     "output_type": "stream",
     "text": [
      "Validation RMS Error = 914.1658492855659\n"
     ]
    }
   ],
   "source": [
    "rms_error = calcRMSError(kps_gt, kps_preds)\n",
    "print(\"Validation RMS Error = {}\".format(rms_error))"
   ]
  },
  {
   "cell_type": "markdown",
   "metadata": {},
   "source": [
    "### Test Set Predictions"
   ]
  },
  {
   "cell_type": "code",
   "execution_count": null,
   "metadata": {},
   "outputs": [],
   "source": [
    "test_idxs = np.arange(0,1782)\n",
    "random.shuffle(test_idxs)\n",
    "\n",
    "Ntest = 32\n",
    "test_imgs = []\n",
    "for i in range(Ntest):\n",
    "    fn=  \"test\"+str(test_idxs[i])+\".png\"\n",
    "    \n",
    "    img = cv.imread(os.path.join(data_dir, test_dir, fn))\n",
    "    img = cv.cvtColor(img, cv.COLOR_BGR2RGB)\n",
    "    img = cv.cvtColor(img, cv.COLOR_RGB2GRAY)\n",
    "    img = np.float32(img) / 255\n",
    "    img = np.reshape(img, newshape=(512,64,1))\n",
    "                    \n",
    "    test_imgs.append(img)\n",
    "\n",
    "test_imgs = np.array(test_imgs, dtype=np.float32)"
   ]
  },
  {
   "cell_type": "code",
   "execution_count": null,
   "metadata": {},
   "outputs": [],
   "source": [
    "def calcTestKeypoints(preds):\n",
    "    \n",
    "    kps_preds = []\n",
    "    npreds = len(preds)\n",
    "\n",
    "    for i in range(npreds):\n",
    "        mask_pred = preds[i]\n",
    "        mask_pred = np.reshape(mask_pred, newshape=(96, 96, 15))\n",
    "        nchannels = mask_pred.shape[-1]\n",
    "        \n",
    "        pred_list = []\n",
    "\n",
    "        for k in range(nchannels):\n",
    "            xpred, ypred = findCoordinates(mask_pred[:, :, k])  # maskToKeypoints(mask_pred[:, :, k])\n",
    "\n",
    "            pred_list.append(xpred)\n",
    "            pred_list.append(ypred)\n",
    "\n",
    "            kps_preds.append(pred_list)\n",
    "    \n",
    "\n",
    "    return np.array(kps_preds, dtype=np.float32)"
   ]
  },
  {
   "cell_type": "markdown",
   "metadata": {},
   "source": [
    "#### FCN-8"
   ]
  },
  {
   "cell_type": "code",
   "execution_count": null,
   "metadata": {},
   "outputs": [],
   "source": [
    "fcn_preds = fcn.predict_on_batch(test_imgs)"
   ]
  },
  {
   "cell_type": "code",
   "execution_count": null,
   "metadata": {},
   "outputs": [],
   "source": [
    "show_masks(test_imgs[0:4], fcn_preds[0:4], nrows=3, ncols=4, include_preds=False, predictions = None)"
   ]
  },
  {
   "cell_type": "code",
   "execution_count": null,
   "metadata": {},
   "outputs": [],
   "source": [
    "fcn_kps = calcTestKeypoints(fcn_preds)"
   ]
  },
  {
   "cell_type": "markdown",
   "metadata": {},
   "source": [
    "#### UNet"
   ]
  },
  {
   "cell_type": "code",
   "execution_count": null,
   "metadata": {},
   "outputs": [],
   "source": [
    "unet_preds = unet.predict_on_batch(test_imgs)"
   ]
  },
  {
   "cell_type": "code",
   "execution_count": null,
   "metadata": {},
   "outputs": [],
   "source": [
    "show_masks(test_imgs[0:4], unet_preds[0:4], nrows=3, ncols=4, include_preds=False, predictions = None)"
   ]
  },
  {
   "cell_type": "code",
   "execution_count": null,
   "metadata": {},
   "outputs": [],
   "source": [
    "unet_kps = calcTestKeypoints(fcn_preds)"
   ]
  },
  {
   "cell_type": "markdown",
   "metadata": {},
   "source": [
    "#### FCN-8 vs. UNet"
   ]
  },
  {
   "cell_type": "code",
   "execution_count": null,
   "metadata": {},
   "outputs": [],
   "source": [
    "show_keypoints(test_imgs[0:6], fcn_kps, nrows=2, ncols=3, predictions=unet_kps)"
   ]
  },
  {
   "cell_type": "code",
   "execution_count": null,
   "metadata": {},
   "outputs": [],
   "source": []
  }
 ],
 "metadata": {
  "kernelspec": {
   "display_name": "Python 3.9.12 ('tf')",
   "language": "python",
   "name": "python3"
  },
  "language_info": {
   "codemirror_mode": {
    "name": "ipython",
    "version": 3
   },
   "file_extension": ".py",
   "mimetype": "text/x-python",
   "name": "python",
   "nbconvert_exporter": "python",
   "pygments_lexer": "ipython3",
   "version": "3.9.12"
  },
  "vscode": {
   "interpreter": {
    "hash": "1b46b49828c783ce36a3f5dcaa7ce5f44d815cc67107fb2588959dbeedda95c5"
   }
  }
 },
 "nbformat": 4,
 "nbformat_minor": 2
}
